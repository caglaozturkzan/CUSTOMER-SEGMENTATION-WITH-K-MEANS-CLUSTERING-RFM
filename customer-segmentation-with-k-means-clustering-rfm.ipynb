{
 "cells": [
  {
   "cell_type": "code",
   "execution_count": 1,
   "id": "67decd2d",
   "metadata": {
    "execution": {
     "iopub.execute_input": "2022-02-08T17:09:41.298651Z",
     "iopub.status.busy": "2022-02-08T17:09:41.297337Z",
     "iopub.status.idle": "2022-02-08T17:09:41.303128Z",
     "shell.execute_reply": "2022-02-08T17:09:41.303692Z"
    },
    "papermill": {
     "duration": 0.041269,
     "end_time": "2022-02-08T17:09:41.304003",
     "exception": false,
     "start_time": "2022-02-08T17:09:41.262734",
     "status": "completed"
    },
    "tags": []
   },
   "outputs": [],
   "source": [
    "# Customer Segmantation with K-Means \n",
    "\n",
    "# İş Problemi : RFM metriklerine göre (skorlar değil) K-Means'i kullanarak müşteri segmentasyonu yapınız.\n",
    "\n",
    "# VERİ SETİ HİKAYESİ \n",
    "# Online Retail II isimli veri seti İngiltere merkezli online bir satış mağazasının \n",
    "# 01/12/2009 - 09/12/2011 tarihleri arasındaki satışlarını içermektedir. Bu şirketin ürün \n",
    "# kataloğunda hediyelik eşyalar yer almaktadır.Şirketin müşterilerinin büyük çoğunluğu kurumsal \n",
    "# müşterilerdir.\n",
    "\n",
    "# DEĞİŞKENLER\n",
    "\n",
    "# InvoiceNo : Fatura Numarası ('Eğer bu kod C ile başlıyorsa işlemin iptal edildiğini ifade eder.')\n",
    "# StockCode : Ürün kodu ('Her bir ürün için eşsiz numara.')\n",
    "# Description : Ürün ismi\n",
    "# Quantity : Ürün adedi ('Faturalardaki ürünlerden kaçar tane satıldığını ifade etmektedir.')\n",
    "# InvoiceDate : Fatura tarihi\n",
    "# UnitPrice : Fatura fiyatı (Sterlin)\n",
    "# CustomerID : Eşsiz müşteri numarası\n",
    "# Country : Ülke ismi"
   ]
  },
  {
   "cell_type": "code",
   "execution_count": 2,
   "id": "a82aa33f",
   "metadata": {
    "execution": {
     "iopub.execute_input": "2022-02-08T17:09:41.365456Z",
     "iopub.status.busy": "2022-02-08T17:09:41.364737Z",
     "iopub.status.idle": "2022-02-08T17:09:43.117566Z",
     "shell.execute_reply": "2022-02-08T17:09:43.116969Z",
     "shell.execute_reply.started": "2022-02-08T17:04:21.108839Z"
    },
    "papermill": {
     "duration": 1.784034,
     "end_time": "2022-02-08T17:09:43.117768",
     "exception": false,
     "start_time": "2022-02-08T17:09:41.333734",
     "status": "completed"
    },
    "tags": []
   },
   "outputs": [],
   "source": [
    "# ilgili kütüphaneler\n",
    "\n",
    "import matplotlib.pyplot as plt\n",
    "import seaborn as sns\n",
    "import numpy as np\n",
    "import pandas as pd\n",
    "import datetime as dt\n",
    "import warnings\n",
    "import matplotlib.pyplot as plt\n",
    "from sklearn.cluster import KMeans\n",
    "from sklearn.preprocessing import MinMaxScaler\n",
    "from yellowbrick.cluster import KElbowVisualizer\n",
    "from scipy.cluster.hierarchy import linkage\n",
    "from scipy.cluster.hierarchy import dendrogram\n",
    "from sklearn.preprocessing import StandardScaler\n",
    "from sklearn.decomposition import PCA\n",
    "from sklearn.model_selection import cross_val_score, GridSearchCV\n",
    "from sklearn.preprocessing import LabelEncoder\n",
    "\n",
    "pd.set_option('display.max_columns', None)\n",
    "warnings.simplefilter(action='ignore', category=Warning)"
   ]
  },
  {
   "cell_type": "code",
   "execution_count": 3,
   "id": "9fdb9332",
   "metadata": {
    "execution": {
     "iopub.execute_input": "2022-02-08T17:09:43.175954Z",
     "iopub.status.busy": "2022-02-08T17:09:43.175292Z",
     "iopub.status.idle": "2022-02-08T17:09:44.342503Z",
     "shell.execute_reply": "2022-02-08T17:09:44.342994Z",
     "shell.execute_reply.started": "2022-02-08T17:04:25.409219Z"
    },
    "papermill": {
     "duration": 1.19795,
     "end_time": "2022-02-08T17:09:44.343177",
     "exception": false,
     "start_time": "2022-02-08T17:09:43.145227",
     "status": "completed"
    },
    "tags": []
   },
   "outputs": [],
   "source": [
    "df_ = pd.read_csv(\"../input/online-retail-ii-data-set-from-ml-repository/Year 2010-2011.csv\", sep=\",\", encoding=\"ISO-8859-1\", header=0)"
   ]
  },
  {
   "cell_type": "code",
   "execution_count": 4,
   "id": "4a3ddc9c",
   "metadata": {
    "execution": {
     "iopub.execute_input": "2022-02-08T17:09:44.401700Z",
     "iopub.status.busy": "2022-02-08T17:09:44.401032Z",
     "iopub.status.idle": "2022-02-08T17:09:44.463501Z",
     "shell.execute_reply": "2022-02-08T17:09:44.464026Z",
     "shell.execute_reply.started": "2022-02-08T17:04:31.664835Z"
    },
    "papermill": {
     "duration": 0.094091,
     "end_time": "2022-02-08T17:09:44.464222",
     "exception": false,
     "start_time": "2022-02-08T17:09:44.370131",
     "status": "completed"
    },
    "tags": []
   },
   "outputs": [
    {
     "data": {
      "text/html": [
       "<div>\n",
       "<style scoped>\n",
       "    .dataframe tbody tr th:only-of-type {\n",
       "        vertical-align: middle;\n",
       "    }\n",
       "\n",
       "    .dataframe tbody tr th {\n",
       "        vertical-align: top;\n",
       "    }\n",
       "\n",
       "    .dataframe thead th {\n",
       "        text-align: right;\n",
       "    }\n",
       "</style>\n",
       "<table border=\"1\" class=\"dataframe\">\n",
       "  <thead>\n",
       "    <tr style=\"text-align: right;\">\n",
       "      <th></th>\n",
       "      <th>Invoice</th>\n",
       "      <th>StockCode</th>\n",
       "      <th>Description</th>\n",
       "      <th>Quantity</th>\n",
       "      <th>InvoiceDate</th>\n",
       "      <th>Price</th>\n",
       "      <th>Customer ID</th>\n",
       "      <th>Country</th>\n",
       "    </tr>\n",
       "  </thead>\n",
       "  <tbody>\n",
       "    <tr>\n",
       "      <th>0</th>\n",
       "      <td>536365</td>\n",
       "      <td>85123A</td>\n",
       "      <td>WHITE HANGING HEART T-LIGHT HOLDER</td>\n",
       "      <td>6</td>\n",
       "      <td>12/1/2010 8:26</td>\n",
       "      <td>2.55</td>\n",
       "      <td>17850.0</td>\n",
       "      <td>United Kingdom</td>\n",
       "    </tr>\n",
       "    <tr>\n",
       "      <th>1</th>\n",
       "      <td>536365</td>\n",
       "      <td>71053</td>\n",
       "      <td>WHITE METAL LANTERN</td>\n",
       "      <td>6</td>\n",
       "      <td>12/1/2010 8:26</td>\n",
       "      <td>3.39</td>\n",
       "      <td>17850.0</td>\n",
       "      <td>United Kingdom</td>\n",
       "    </tr>\n",
       "    <tr>\n",
       "      <th>2</th>\n",
       "      <td>536365</td>\n",
       "      <td>84406B</td>\n",
       "      <td>CREAM CUPID HEARTS COAT HANGER</td>\n",
       "      <td>8</td>\n",
       "      <td>12/1/2010 8:26</td>\n",
       "      <td>2.75</td>\n",
       "      <td>17850.0</td>\n",
       "      <td>United Kingdom</td>\n",
       "    </tr>\n",
       "    <tr>\n",
       "      <th>3</th>\n",
       "      <td>536365</td>\n",
       "      <td>84029G</td>\n",
       "      <td>KNITTED UNION FLAG HOT WATER BOTTLE</td>\n",
       "      <td>6</td>\n",
       "      <td>12/1/2010 8:26</td>\n",
       "      <td>3.39</td>\n",
       "      <td>17850.0</td>\n",
       "      <td>United Kingdom</td>\n",
       "    </tr>\n",
       "    <tr>\n",
       "      <th>4</th>\n",
       "      <td>536365</td>\n",
       "      <td>84029E</td>\n",
       "      <td>RED WOOLLY HOTTIE WHITE HEART.</td>\n",
       "      <td>6</td>\n",
       "      <td>12/1/2010 8:26</td>\n",
       "      <td>3.39</td>\n",
       "      <td>17850.0</td>\n",
       "      <td>United Kingdom</td>\n",
       "    </tr>\n",
       "  </tbody>\n",
       "</table>\n",
       "</div>"
      ],
      "text/plain": [
       "  Invoice StockCode                          Description  Quantity  \\\n",
       "0  536365    85123A   WHITE HANGING HEART T-LIGHT HOLDER         6   \n",
       "1  536365     71053                  WHITE METAL LANTERN         6   \n",
       "2  536365    84406B       CREAM CUPID HEARTS COAT HANGER         8   \n",
       "3  536365    84029G  KNITTED UNION FLAG HOT WATER BOTTLE         6   \n",
       "4  536365    84029E       RED WOOLLY HOTTIE WHITE HEART.         6   \n",
       "\n",
       "      InvoiceDate  Price  Customer ID         Country  \n",
       "0  12/1/2010 8:26   2.55      17850.0  United Kingdom  \n",
       "1  12/1/2010 8:26   3.39      17850.0  United Kingdom  \n",
       "2  12/1/2010 8:26   2.75      17850.0  United Kingdom  \n",
       "3  12/1/2010 8:26   3.39      17850.0  United Kingdom  \n",
       "4  12/1/2010 8:26   3.39      17850.0  United Kingdom  "
      ]
     },
     "execution_count": 4,
     "metadata": {},
     "output_type": "execute_result"
    }
   ],
   "source": [
    "df = df_.copy()\n",
    "df.head()"
   ]
  },
  {
   "cell_type": "code",
   "execution_count": 5,
   "id": "6d5eee6e",
   "metadata": {
    "execution": {
     "iopub.execute_input": "2022-02-08T17:09:44.525431Z",
     "iopub.status.busy": "2022-02-08T17:09:44.524387Z",
     "iopub.status.idle": "2022-02-08T17:09:44.528808Z",
     "shell.execute_reply": "2022-02-08T17:09:44.528328Z",
     "shell.execute_reply.started": "2022-02-08T17:04:37.425735Z"
    },
    "papermill": {
     "duration": 0.036797,
     "end_time": "2022-02-08T17:09:44.528941",
     "exception": false,
     "start_time": "2022-02-08T17:09:44.492144",
     "status": "completed"
    },
    "tags": []
   },
   "outputs": [
    {
     "data": {
      "text/plain": [
       "(541910, 8)"
      ]
     },
     "execution_count": 5,
     "metadata": {},
     "output_type": "execute_result"
    }
   ],
   "source": [
    "df.shape"
   ]
  },
  {
   "cell_type": "code",
   "execution_count": 6,
   "id": "73cb1259",
   "metadata": {
    "execution": {
     "iopub.execute_input": "2022-02-08T17:09:44.591595Z",
     "iopub.status.busy": "2022-02-08T17:09:44.590891Z",
     "iopub.status.idle": "2022-02-08T17:09:44.913535Z",
     "shell.execute_reply": "2022-02-08T17:09:44.912967Z",
     "shell.execute_reply.started": "2022-02-08T17:04:39.388421Z"
    },
    "papermill": {
     "duration": 0.35724,
     "end_time": "2022-02-08T17:09:44.913707",
     "exception": false,
     "start_time": "2022-02-08T17:09:44.556467",
     "status": "completed"
    },
    "tags": []
   },
   "outputs": [
    {
     "name": "stdout",
     "output_type": "stream",
     "text": [
      "<class 'pandas.core.frame.DataFrame'>\n",
      "RangeIndex: 541910 entries, 0 to 541909\n",
      "Data columns (total 8 columns):\n",
      " #   Column       Non-Null Count   Dtype  \n",
      "---  ------       --------------   -----  \n",
      " 0   Invoice      541910 non-null  object \n",
      " 1   StockCode    541910 non-null  object \n",
      " 2   Description  540456 non-null  object \n",
      " 3   Quantity     541910 non-null  int64  \n",
      " 4   InvoiceDate  541910 non-null  object \n",
      " 5   Price        541910 non-null  float64\n",
      " 6   Customer ID  406830 non-null  float64\n",
      " 7   Country      541910 non-null  object \n",
      "dtypes: float64(2), int64(1), object(5)\n",
      "memory usage: 33.1+ MB\n"
     ]
    }
   ],
   "source": [
    "df.info()"
   ]
  },
  {
   "cell_type": "code",
   "execution_count": 7,
   "id": "214c1dae",
   "metadata": {
    "execution": {
     "iopub.execute_input": "2022-02-08T17:09:44.987251Z",
     "iopub.status.busy": "2022-02-08T17:09:44.986085Z",
     "iopub.status.idle": "2022-02-08T17:09:45.063665Z",
     "shell.execute_reply": "2022-02-08T17:09:45.064302Z",
     "shell.execute_reply.started": "2022-02-08T17:04:44.530028Z"
    },
    "papermill": {
     "duration": 0.12154,
     "end_time": "2022-02-08T17:09:45.064476",
     "exception": false,
     "start_time": "2022-02-08T17:09:44.942936",
     "status": "completed"
    },
    "tags": []
   },
   "outputs": [
    {
     "data": {
      "text/html": [
       "<div>\n",
       "<style scoped>\n",
       "    .dataframe tbody tr th:only-of-type {\n",
       "        vertical-align: middle;\n",
       "    }\n",
       "\n",
       "    .dataframe tbody tr th {\n",
       "        vertical-align: top;\n",
       "    }\n",
       "\n",
       "    .dataframe thead th {\n",
       "        text-align: right;\n",
       "    }\n",
       "</style>\n",
       "<table border=\"1\" class=\"dataframe\">\n",
       "  <thead>\n",
       "    <tr style=\"text-align: right;\">\n",
       "      <th></th>\n",
       "      <th>count</th>\n",
       "      <th>mean</th>\n",
       "      <th>std</th>\n",
       "      <th>min</th>\n",
       "      <th>25%</th>\n",
       "      <th>50%</th>\n",
       "      <th>75%</th>\n",
       "      <th>max</th>\n",
       "    </tr>\n",
       "  </thead>\n",
       "  <tbody>\n",
       "    <tr>\n",
       "      <th>Quantity</th>\n",
       "      <td>541910.0</td>\n",
       "      <td>9.552234</td>\n",
       "      <td>218.080957</td>\n",
       "      <td>-80995.00</td>\n",
       "      <td>1.00</td>\n",
       "      <td>3.00</td>\n",
       "      <td>10.00</td>\n",
       "      <td>80995.0</td>\n",
       "    </tr>\n",
       "    <tr>\n",
       "      <th>Price</th>\n",
       "      <td>541910.0</td>\n",
       "      <td>4.611138</td>\n",
       "      <td>96.759765</td>\n",
       "      <td>-11062.06</td>\n",
       "      <td>1.25</td>\n",
       "      <td>2.08</td>\n",
       "      <td>4.13</td>\n",
       "      <td>38970.0</td>\n",
       "    </tr>\n",
       "    <tr>\n",
       "      <th>Customer ID</th>\n",
       "      <td>406830.0</td>\n",
       "      <td>15287.684160</td>\n",
       "      <td>1713.603074</td>\n",
       "      <td>12346.00</td>\n",
       "      <td>13953.00</td>\n",
       "      <td>15152.00</td>\n",
       "      <td>16791.00</td>\n",
       "      <td>18287.0</td>\n",
       "    </tr>\n",
       "  </tbody>\n",
       "</table>\n",
       "</div>"
      ],
      "text/plain": [
       "                count          mean          std       min       25%  \\\n",
       "Quantity     541910.0      9.552234   218.080957 -80995.00      1.00   \n",
       "Price        541910.0      4.611138    96.759765 -11062.06      1.25   \n",
       "Customer ID  406830.0  15287.684160  1713.603074  12346.00  13953.00   \n",
       "\n",
       "                  50%       75%      max  \n",
       "Quantity         3.00     10.00  80995.0  \n",
       "Price            2.08      4.13  38970.0  \n",
       "Customer ID  15152.00  16791.00  18287.0  "
      ]
     },
     "execution_count": 7,
     "metadata": {},
     "output_type": "execute_result"
    }
   ],
   "source": [
    "df.describe().T"
   ]
  },
  {
   "cell_type": "code",
   "execution_count": 8,
   "id": "62c1947a",
   "metadata": {
    "execution": {
     "iopub.execute_input": "2022-02-08T17:09:45.128523Z",
     "iopub.status.busy": "2022-02-08T17:09:45.127286Z",
     "iopub.status.idle": "2022-02-08T17:09:45.423185Z",
     "shell.execute_reply": "2022-02-08T17:09:45.422626Z",
     "shell.execute_reply.started": "2022-02-08T17:04:49.268950Z"
    },
    "papermill": {
     "duration": 0.328734,
     "end_time": "2022-02-08T17:09:45.423362",
     "exception": false,
     "start_time": "2022-02-08T17:09:45.094628",
     "status": "completed"
    },
    "tags": []
   },
   "outputs": [
    {
     "data": {
      "text/plain": [
       "Invoice             0\n",
       "StockCode           0\n",
       "Description      1454\n",
       "Quantity            0\n",
       "InvoiceDate         0\n",
       "Price               0\n",
       "Customer ID    135080\n",
       "Country             0\n",
       "dtype: int64"
      ]
     },
     "execution_count": 8,
     "metadata": {},
     "output_type": "execute_result"
    }
   ],
   "source": [
    "# DATA PRE-PROCESSING\n",
    "\n",
    "df.isnull().sum()"
   ]
  },
  {
   "cell_type": "code",
   "execution_count": 9,
   "id": "d6473af9",
   "metadata": {
    "execution": {
     "iopub.execute_input": "2022-02-08T17:09:45.487484Z",
     "iopub.status.busy": "2022-02-08T17:09:45.486449Z",
     "iopub.status.idle": "2022-02-08T17:09:45.823573Z",
     "shell.execute_reply": "2022-02-08T17:09:45.822961Z",
     "shell.execute_reply.started": "2022-02-08T17:04:54.100613Z"
    },
    "papermill": {
     "duration": 0.371545,
     "end_time": "2022-02-08T17:09:45.823720",
     "exception": false,
     "start_time": "2022-02-08T17:09:45.452175",
     "status": "completed"
    },
    "tags": []
   },
   "outputs": [],
   "source": [
    "df.dropna(inplace=True)"
   ]
  },
  {
   "cell_type": "code",
   "execution_count": 10,
   "id": "7e409ae1",
   "metadata": {
    "execution": {
     "iopub.execute_input": "2022-02-08T17:09:45.886911Z",
     "iopub.status.busy": "2022-02-08T17:09:45.886269Z",
     "iopub.status.idle": "2022-02-08T17:09:46.111077Z",
     "shell.execute_reply": "2022-02-08T17:09:46.110531Z",
     "shell.execute_reply.started": "2022-02-08T17:04:56.629656Z"
    },
    "papermill": {
     "duration": 0.258622,
     "end_time": "2022-02-08T17:09:46.111264",
     "exception": false,
     "start_time": "2022-02-08T17:09:45.852642",
     "status": "completed"
    },
    "tags": []
   },
   "outputs": [
    {
     "data": {
      "text/plain": [
       "Invoice        0\n",
       "StockCode      0\n",
       "Description    0\n",
       "Quantity       0\n",
       "InvoiceDate    0\n",
       "Price          0\n",
       "Customer ID    0\n",
       "Country        0\n",
       "dtype: int64"
      ]
     },
     "execution_count": 10,
     "metadata": {},
     "output_type": "execute_result"
    }
   ],
   "source": [
    "df.isnull().sum()"
   ]
  },
  {
   "cell_type": "code",
   "execution_count": 11,
   "id": "669eac11",
   "metadata": {
    "execution": {
     "iopub.execute_input": "2022-02-08T17:09:46.218384Z",
     "iopub.status.busy": "2022-02-08T17:09:46.217360Z",
     "iopub.status.idle": "2022-02-08T17:09:46.450177Z",
     "shell.execute_reply": "2022-02-08T17:09:46.449586Z",
     "shell.execute_reply.started": "2022-02-08T17:05:01.810287Z"
    },
    "papermill": {
     "duration": 0.309695,
     "end_time": "2022-02-08T17:09:46.450343",
     "exception": false,
     "start_time": "2022-02-08T17:09:46.140648",
     "status": "completed"
    },
    "tags": []
   },
   "outputs": [],
   "source": [
    "df = df[~df[\"Invoice\"].str.contains(\"C\", na=False)]"
   ]
  },
  {
   "cell_type": "code",
   "execution_count": 12,
   "id": "811bbe8c",
   "metadata": {
    "execution": {
     "iopub.execute_input": "2022-02-08T17:09:46.514474Z",
     "iopub.status.busy": "2022-02-08T17:09:46.513827Z",
     "iopub.status.idle": "2022-02-08T17:09:46.586956Z",
     "shell.execute_reply": "2022-02-08T17:09:46.587509Z",
     "shell.execute_reply.started": "2022-02-08T17:05:03.829857Z"
    },
    "papermill": {
     "duration": 0.107839,
     "end_time": "2022-02-08T17:09:46.587688",
     "exception": false,
     "start_time": "2022-02-08T17:09:46.479849",
     "status": "completed"
    },
    "tags": []
   },
   "outputs": [],
   "source": [
    "df = df[df[\"Quantity\"] > 0]\n",
    "df = df[df[\"Price\"] > 0]"
   ]
  },
  {
   "cell_type": "code",
   "execution_count": 13,
   "id": "6fa10ea2",
   "metadata": {
    "execution": {
     "iopub.execute_input": "2022-02-08T17:09:46.649793Z",
     "iopub.status.busy": "2022-02-08T17:09:46.649049Z",
     "iopub.status.idle": "2022-02-08T17:09:46.687017Z",
     "shell.execute_reply": "2022-02-08T17:09:46.687564Z",
     "shell.execute_reply.started": "2022-02-08T17:05:06.228805Z"
    },
    "papermill": {
     "duration": 0.070613,
     "end_time": "2022-02-08T17:09:46.687785",
     "exception": false,
     "start_time": "2022-02-08T17:09:46.617172",
     "status": "completed"
    },
    "tags": []
   },
   "outputs": [],
   "source": [
    "def outlier_thresholds(dataframe, variable):\n",
    "    quartile1 = dataframe[variable].quantile(0.01)\n",
    "    quartile3 = dataframe[variable].quantile(0.99)\n",
    "    interquantile_range = quartile3 - quartile1\n",
    "    up_limit = quartile3 + 1.5 * interquantile_range\n",
    "    low_limit = quartile1 - 1.5 * interquantile_range\n",
    "    return low_limit, up_limit\n",
    "\n",
    "\n",
    "def replace_with_thresholds(dataframe, variable):\n",
    "    low_limit, up_limit = outlier_thresholds(dataframe, variable)\n",
    "    dataframe.loc[(dataframe[variable] < low_limit), variable] = low_limit\n",
    "    dataframe.loc[(dataframe[variable] > up_limit), variable] = up_limit\n",
    "\n",
    "replace_with_thresholds(df, \"Quantity\")\n",
    "replace_with_thresholds(df, \"Price\")"
   ]
  },
  {
   "cell_type": "code",
   "execution_count": 14,
   "id": "22208e6c",
   "metadata": {
    "execution": {
     "iopub.execute_input": "2022-02-08T17:09:46.750450Z",
     "iopub.status.busy": "2022-02-08T17:09:46.749757Z",
     "iopub.status.idle": "2022-02-08T17:09:46.768733Z",
     "shell.execute_reply": "2022-02-08T17:09:46.769331Z",
     "shell.execute_reply.started": "2022-02-08T17:05:11.468964Z"
    },
    "papermill": {
     "duration": 0.051935,
     "end_time": "2022-02-08T17:09:46.769530",
     "exception": false,
     "start_time": "2022-02-08T17:09:46.717595",
     "status": "completed"
    },
    "tags": []
   },
   "outputs": [
    {
     "data": {
      "text/html": [
       "<div>\n",
       "<style scoped>\n",
       "    .dataframe tbody tr th:only-of-type {\n",
       "        vertical-align: middle;\n",
       "    }\n",
       "\n",
       "    .dataframe tbody tr th {\n",
       "        vertical-align: top;\n",
       "    }\n",
       "\n",
       "    .dataframe thead th {\n",
       "        text-align: right;\n",
       "    }\n",
       "</style>\n",
       "<table border=\"1\" class=\"dataframe\">\n",
       "  <thead>\n",
       "    <tr style=\"text-align: right;\">\n",
       "      <th></th>\n",
       "      <th>Invoice</th>\n",
       "      <th>StockCode</th>\n",
       "      <th>Description</th>\n",
       "      <th>Quantity</th>\n",
       "      <th>InvoiceDate</th>\n",
       "      <th>Price</th>\n",
       "      <th>Customer ID</th>\n",
       "      <th>Country</th>\n",
       "      <th>TotalPrice</th>\n",
       "    </tr>\n",
       "  </thead>\n",
       "  <tbody>\n",
       "    <tr>\n",
       "      <th>0</th>\n",
       "      <td>536365</td>\n",
       "      <td>85123A</td>\n",
       "      <td>WHITE HANGING HEART T-LIGHT HOLDER</td>\n",
       "      <td>6.0</td>\n",
       "      <td>12/1/2010 8:26</td>\n",
       "      <td>2.55</td>\n",
       "      <td>17850.0</td>\n",
       "      <td>United Kingdom</td>\n",
       "      <td>15.30</td>\n",
       "    </tr>\n",
       "    <tr>\n",
       "      <th>1</th>\n",
       "      <td>536365</td>\n",
       "      <td>71053</td>\n",
       "      <td>WHITE METAL LANTERN</td>\n",
       "      <td>6.0</td>\n",
       "      <td>12/1/2010 8:26</td>\n",
       "      <td>3.39</td>\n",
       "      <td>17850.0</td>\n",
       "      <td>United Kingdom</td>\n",
       "      <td>20.34</td>\n",
       "    </tr>\n",
       "    <tr>\n",
       "      <th>2</th>\n",
       "      <td>536365</td>\n",
       "      <td>84406B</td>\n",
       "      <td>CREAM CUPID HEARTS COAT HANGER</td>\n",
       "      <td>8.0</td>\n",
       "      <td>12/1/2010 8:26</td>\n",
       "      <td>2.75</td>\n",
       "      <td>17850.0</td>\n",
       "      <td>United Kingdom</td>\n",
       "      <td>22.00</td>\n",
       "    </tr>\n",
       "    <tr>\n",
       "      <th>3</th>\n",
       "      <td>536365</td>\n",
       "      <td>84029G</td>\n",
       "      <td>KNITTED UNION FLAG HOT WATER BOTTLE</td>\n",
       "      <td>6.0</td>\n",
       "      <td>12/1/2010 8:26</td>\n",
       "      <td>3.39</td>\n",
       "      <td>17850.0</td>\n",
       "      <td>United Kingdom</td>\n",
       "      <td>20.34</td>\n",
       "    </tr>\n",
       "    <tr>\n",
       "      <th>4</th>\n",
       "      <td>536365</td>\n",
       "      <td>84029E</td>\n",
       "      <td>RED WOOLLY HOTTIE WHITE HEART.</td>\n",
       "      <td>6.0</td>\n",
       "      <td>12/1/2010 8:26</td>\n",
       "      <td>3.39</td>\n",
       "      <td>17850.0</td>\n",
       "      <td>United Kingdom</td>\n",
       "      <td>20.34</td>\n",
       "    </tr>\n",
       "  </tbody>\n",
       "</table>\n",
       "</div>"
      ],
      "text/plain": [
       "  Invoice StockCode                          Description  Quantity  \\\n",
       "0  536365    85123A   WHITE HANGING HEART T-LIGHT HOLDER       6.0   \n",
       "1  536365     71053                  WHITE METAL LANTERN       6.0   \n",
       "2  536365    84406B       CREAM CUPID HEARTS COAT HANGER       8.0   \n",
       "3  536365    84029G  KNITTED UNION FLAG HOT WATER BOTTLE       6.0   \n",
       "4  536365    84029E       RED WOOLLY HOTTIE WHITE HEART.       6.0   \n",
       "\n",
       "      InvoiceDate  Price  Customer ID         Country  TotalPrice  \n",
       "0  12/1/2010 8:26   2.55      17850.0  United Kingdom       15.30  \n",
       "1  12/1/2010 8:26   3.39      17850.0  United Kingdom       20.34  \n",
       "2  12/1/2010 8:26   2.75      17850.0  United Kingdom       22.00  \n",
       "3  12/1/2010 8:26   3.39      17850.0  United Kingdom       20.34  \n",
       "4  12/1/2010 8:26   3.39      17850.0  United Kingdom       20.34  "
      ]
     },
     "execution_count": 14,
     "metadata": {},
     "output_type": "execute_result"
    }
   ],
   "source": [
    "df[\"TotalPrice\"] = df[\"Quantity\"] * df[\"Price\"]\n",
    "df.head()"
   ]
  },
  {
   "cell_type": "code",
   "execution_count": 15,
   "id": "f7880af1",
   "metadata": {
    "execution": {
     "iopub.execute_input": "2022-02-08T17:09:46.833219Z",
     "iopub.status.busy": "2022-02-08T17:09:46.832571Z",
     "iopub.status.idle": "2022-02-08T17:09:48.625464Z",
     "shell.execute_reply": "2022-02-08T17:09:48.624848Z",
     "shell.execute_reply.started": "2022-02-08T17:05:21.767932Z"
    },
    "papermill": {
     "duration": 1.825881,
     "end_time": "2022-02-08T17:09:48.625620",
     "exception": false,
     "start_time": "2022-02-08T17:09:46.799739",
     "status": "completed"
    },
    "tags": []
   },
   "outputs": [],
   "source": [
    "df['InvoiceDate'] = pd.to_datetime(df['InvoiceDate'])"
   ]
  },
  {
   "cell_type": "code",
   "execution_count": 16,
   "id": "4b1713f5",
   "metadata": {
    "execution": {
     "iopub.execute_input": "2022-02-08T17:09:48.693545Z",
     "iopub.status.busy": "2022-02-08T17:09:48.692865Z",
     "iopub.status.idle": "2022-02-08T17:09:49.879748Z",
     "shell.execute_reply": "2022-02-08T17:09:49.879151Z",
     "shell.execute_reply.started": "2022-02-08T17:05:25.228573Z"
    },
    "papermill": {
     "duration": 1.224307,
     "end_time": "2022-02-08T17:09:49.879903",
     "exception": false,
     "start_time": "2022-02-08T17:09:48.655596",
     "status": "completed"
    },
    "tags": []
   },
   "outputs": [],
   "source": [
    "today_date = dt.datetime(2011, 12, 11)\n",
    "rfm_df = df.groupby('Customer ID').agg({'InvoiceDate': lambda InvoiceDate: (today_date - InvoiceDate.max()).days,\n",
    "                                     'Invoice': lambda Invoice: Invoice.nunique(),\n",
    "                                     'TotalPrice': lambda TotalPrice: TotalPrice.sum()})"
   ]
  },
  {
   "cell_type": "code",
   "execution_count": 17,
   "id": "9bc777e1",
   "metadata": {
    "execution": {
     "iopub.execute_input": "2022-02-08T17:09:49.943807Z",
     "iopub.status.busy": "2022-02-08T17:09:49.942735Z",
     "iopub.status.idle": "2022-02-08T17:09:49.954961Z",
     "shell.execute_reply": "2022-02-08T17:09:49.955455Z",
     "shell.execute_reply.started": "2022-02-08T17:05:31.502330Z"
    },
    "papermill": {
     "duration": 0.04585,
     "end_time": "2022-02-08T17:09:49.955635",
     "exception": false,
     "start_time": "2022-02-08T17:09:49.909785",
     "status": "completed"
    },
    "tags": []
   },
   "outputs": [
    {
     "data": {
      "text/html": [
       "<div>\n",
       "<style scoped>\n",
       "    .dataframe tbody tr th:only-of-type {\n",
       "        vertical-align: middle;\n",
       "    }\n",
       "\n",
       "    .dataframe tbody tr th {\n",
       "        vertical-align: top;\n",
       "    }\n",
       "\n",
       "    .dataframe thead th {\n",
       "        text-align: right;\n",
       "    }\n",
       "</style>\n",
       "<table border=\"1\" class=\"dataframe\">\n",
       "  <thead>\n",
       "    <tr style=\"text-align: right;\">\n",
       "      <th></th>\n",
       "      <th>recency</th>\n",
       "      <th>frequency</th>\n",
       "      <th>monetary</th>\n",
       "    </tr>\n",
       "    <tr>\n",
       "      <th>Customer ID</th>\n",
       "      <th></th>\n",
       "      <th></th>\n",
       "      <th></th>\n",
       "    </tr>\n",
       "  </thead>\n",
       "  <tbody>\n",
       "    <tr>\n",
       "      <th>12346.0</th>\n",
       "      <td>326</td>\n",
       "      <td>1</td>\n",
       "      <td>310.44</td>\n",
       "    </tr>\n",
       "    <tr>\n",
       "      <th>12347.0</th>\n",
       "      <td>3</td>\n",
       "      <td>7</td>\n",
       "      <td>4310.00</td>\n",
       "    </tr>\n",
       "    <tr>\n",
       "      <th>12348.0</th>\n",
       "      <td>76</td>\n",
       "      <td>4</td>\n",
       "      <td>1770.78</td>\n",
       "    </tr>\n",
       "    <tr>\n",
       "      <th>12349.0</th>\n",
       "      <td>19</td>\n",
       "      <td>1</td>\n",
       "      <td>1491.72</td>\n",
       "    </tr>\n",
       "    <tr>\n",
       "      <th>12350.0</th>\n",
       "      <td>311</td>\n",
       "      <td>1</td>\n",
       "      <td>331.46</td>\n",
       "    </tr>\n",
       "  </tbody>\n",
       "</table>\n",
       "</div>"
      ],
      "text/plain": [
       "             recency  frequency  monetary\n",
       "Customer ID                              \n",
       "12346.0          326          1    310.44\n",
       "12347.0            3          7   4310.00\n",
       "12348.0           76          4   1770.78\n",
       "12349.0           19          1   1491.72\n",
       "12350.0          311          1    331.46"
      ]
     },
     "execution_count": 17,
     "metadata": {},
     "output_type": "execute_result"
    }
   ],
   "source": [
    "rfm_df.columns = ['recency', 'frequency', 'monetary']\n",
    "rfm_df = rfm_df[(rfm_df['monetary'] > 0)]\n",
    "rfm_df.head()"
   ]
  },
  {
   "cell_type": "code",
   "execution_count": 18,
   "id": "4ea17082",
   "metadata": {
    "execution": {
     "iopub.execute_input": "2022-02-08T17:09:50.020743Z",
     "iopub.status.busy": "2022-02-08T17:09:50.019661Z",
     "iopub.status.idle": "2022-02-08T17:09:50.030728Z",
     "shell.execute_reply": "2022-02-08T17:09:50.031210Z",
     "shell.execute_reply.started": "2022-02-08T17:05:36.702046Z"
    },
    "papermill": {
     "duration": 0.045302,
     "end_time": "2022-02-08T17:09:50.031390",
     "exception": false,
     "start_time": "2022-02-08T17:09:49.986088",
     "status": "completed"
    },
    "tags": []
   },
   "outputs": [
    {
     "data": {
      "text/html": [
       "<div>\n",
       "<style scoped>\n",
       "    .dataframe tbody tr th:only-of-type {\n",
       "        vertical-align: middle;\n",
       "    }\n",
       "\n",
       "    .dataframe tbody tr th {\n",
       "        vertical-align: top;\n",
       "    }\n",
       "\n",
       "    .dataframe thead th {\n",
       "        text-align: right;\n",
       "    }\n",
       "</style>\n",
       "<table border=\"1\" class=\"dataframe\">\n",
       "  <thead>\n",
       "    <tr style=\"text-align: right;\">\n",
       "      <th></th>\n",
       "      <th>recency</th>\n",
       "      <th>frequency</th>\n",
       "      <th>monetary</th>\n",
       "    </tr>\n",
       "    <tr>\n",
       "      <th>Customer ID</th>\n",
       "      <th></th>\n",
       "      <th></th>\n",
       "      <th></th>\n",
       "    </tr>\n",
       "  </thead>\n",
       "  <tbody>\n",
       "    <tr>\n",
       "      <th>12346.0</th>\n",
       "      <td>326</td>\n",
       "      <td>1</td>\n",
       "      <td>310.44</td>\n",
       "    </tr>\n",
       "    <tr>\n",
       "      <th>12347.0</th>\n",
       "      <td>3</td>\n",
       "      <td>7</td>\n",
       "      <td>4310.00</td>\n",
       "    </tr>\n",
       "    <tr>\n",
       "      <th>12348.0</th>\n",
       "      <td>76</td>\n",
       "      <td>4</td>\n",
       "      <td>1770.78</td>\n",
       "    </tr>\n",
       "    <tr>\n",
       "      <th>12349.0</th>\n",
       "      <td>19</td>\n",
       "      <td>1</td>\n",
       "      <td>1491.72</td>\n",
       "    </tr>\n",
       "    <tr>\n",
       "      <th>12350.0</th>\n",
       "      <td>311</td>\n",
       "      <td>1</td>\n",
       "      <td>331.46</td>\n",
       "    </tr>\n",
       "  </tbody>\n",
       "</table>\n",
       "</div>"
      ],
      "text/plain": [
       "             recency  frequency  monetary\n",
       "Customer ID                              \n",
       "12346.0          326          1    310.44\n",
       "12347.0            3          7   4310.00\n",
       "12348.0           76          4   1770.78\n",
       "12349.0           19          1   1491.72\n",
       "12350.0          311          1    331.46"
      ]
     },
     "execution_count": 18,
     "metadata": {},
     "output_type": "execute_result"
    }
   ],
   "source": [
    "# we keep for K-Means\n",
    "\n",
    "km_df = rfm_df.copy()\n",
    "km_df.head()"
   ]
  },
  {
   "cell_type": "code",
   "execution_count": 19,
   "id": "46067cc6",
   "metadata": {
    "execution": {
     "iopub.execute_input": "2022-02-08T17:09:50.098629Z",
     "iopub.status.busy": "2022-02-08T17:09:50.097616Z",
     "iopub.status.idle": "2022-02-08T17:09:50.129599Z",
     "shell.execute_reply": "2022-02-08T17:09:50.128975Z",
     "shell.execute_reply.started": "2022-02-08T17:05:42.188952Z"
    },
    "papermill": {
     "duration": 0.066727,
     "end_time": "2022-02-08T17:09:50.129753",
     "exception": false,
     "start_time": "2022-02-08T17:09:50.063026",
     "status": "completed"
    },
    "tags": []
   },
   "outputs": [
    {
     "data": {
      "text/html": [
       "<div>\n",
       "<style scoped>\n",
       "    .dataframe tbody tr th:only-of-type {\n",
       "        vertical-align: middle;\n",
       "    }\n",
       "\n",
       "    .dataframe tbody tr th {\n",
       "        vertical-align: top;\n",
       "    }\n",
       "\n",
       "    .dataframe thead th {\n",
       "        text-align: right;\n",
       "    }\n",
       "</style>\n",
       "<table border=\"1\" class=\"dataframe\">\n",
       "  <thead>\n",
       "    <tr style=\"text-align: right;\">\n",
       "      <th></th>\n",
       "      <th>recency</th>\n",
       "      <th>frequency</th>\n",
       "      <th>monetary</th>\n",
       "      <th>recency_score</th>\n",
       "      <th>frequency_score</th>\n",
       "      <th>monetary_score</th>\n",
       "      <th>RFM_SCORE</th>\n",
       "    </tr>\n",
       "    <tr>\n",
       "      <th>Customer ID</th>\n",
       "      <th></th>\n",
       "      <th></th>\n",
       "      <th></th>\n",
       "      <th></th>\n",
       "      <th></th>\n",
       "      <th></th>\n",
       "      <th></th>\n",
       "    </tr>\n",
       "  </thead>\n",
       "  <tbody>\n",
       "    <tr>\n",
       "      <th>12346.0</th>\n",
       "      <td>326</td>\n",
       "      <td>1</td>\n",
       "      <td>310.44</td>\n",
       "      <td>1</td>\n",
       "      <td>1</td>\n",
       "      <td>2</td>\n",
       "      <td>11</td>\n",
       "    </tr>\n",
       "    <tr>\n",
       "      <th>12347.0</th>\n",
       "      <td>3</td>\n",
       "      <td>7</td>\n",
       "      <td>4310.00</td>\n",
       "      <td>5</td>\n",
       "      <td>5</td>\n",
       "      <td>5</td>\n",
       "      <td>55</td>\n",
       "    </tr>\n",
       "    <tr>\n",
       "      <th>12348.0</th>\n",
       "      <td>76</td>\n",
       "      <td>4</td>\n",
       "      <td>1770.78</td>\n",
       "      <td>2</td>\n",
       "      <td>4</td>\n",
       "      <td>4</td>\n",
       "      <td>24</td>\n",
       "    </tr>\n",
       "    <tr>\n",
       "      <th>12349.0</th>\n",
       "      <td>19</td>\n",
       "      <td>1</td>\n",
       "      <td>1491.72</td>\n",
       "      <td>4</td>\n",
       "      <td>1</td>\n",
       "      <td>4</td>\n",
       "      <td>41</td>\n",
       "    </tr>\n",
       "    <tr>\n",
       "      <th>12350.0</th>\n",
       "      <td>311</td>\n",
       "      <td>1</td>\n",
       "      <td>331.46</td>\n",
       "      <td>1</td>\n",
       "      <td>1</td>\n",
       "      <td>2</td>\n",
       "      <td>11</td>\n",
       "    </tr>\n",
       "  </tbody>\n",
       "</table>\n",
       "</div>"
      ],
      "text/plain": [
       "             recency  frequency  monetary recency_score frequency_score  \\\n",
       "Customer ID                                                               \n",
       "12346.0          326          1    310.44             1               1   \n",
       "12347.0            3          7   4310.00             5               5   \n",
       "12348.0           76          4   1770.78             2               4   \n",
       "12349.0           19          1   1491.72             4               1   \n",
       "12350.0          311          1    331.46             1               1   \n",
       "\n",
       "            monetary_score RFM_SCORE  \n",
       "Customer ID                           \n",
       "12346.0                  2        11  \n",
       "12347.0                  5        55  \n",
       "12348.0                  4        24  \n",
       "12349.0                  4        41  \n",
       "12350.0                  2        11  "
      ]
     },
     "execution_count": 19,
     "metadata": {},
     "output_type": "execute_result"
    }
   ],
   "source": [
    "rfm_df[\"recency_score\"] = pd.qcut(rfm_df[\"recency\"], 5, labels=[5, 4, 3, 2, 1])\n",
    "\n",
    "rfm_df[\"frequency_score\"] = pd.qcut(rfm_df[\"frequency\"].rank(method=\"first\"), 5, labels=[1, 2, 3, 4, 5])\n",
    "\n",
    "rfm_df[\"monetary_score\"] = pd.qcut(rfm_df[\"monetary\"], 5, labels=[1, 2, 3, 4, 5])\n",
    "\n",
    "rfm_df[\"RFM_SCORE\"] = (rfm_df['recency_score'].astype(str) +\n",
    "                    rfm_df['frequency_score'].astype(str))\n",
    "\n",
    "rfm_df.head()"
   ]
  },
  {
   "cell_type": "code",
   "execution_count": 20,
   "id": "fbc26160",
   "metadata": {
    "execution": {
     "iopub.execute_input": "2022-02-08T17:09:50.230275Z",
     "iopub.status.busy": "2022-02-08T17:09:50.205457Z",
     "iopub.status.idle": "2022-02-08T17:09:50.300145Z",
     "shell.execute_reply": "2022-02-08T17:09:50.299515Z",
     "shell.execute_reply.started": "2022-02-08T17:05:47.209797Z"
    },
    "papermill": {
     "duration": 0.139151,
     "end_time": "2022-02-08T17:09:50.300331",
     "exception": false,
     "start_time": "2022-02-08T17:09:50.161180",
     "status": "completed"
    },
    "tags": []
   },
   "outputs": [
    {
     "data": {
      "text/html": [
       "<div>\n",
       "<style scoped>\n",
       "    .dataframe tbody tr th:only-of-type {\n",
       "        vertical-align: middle;\n",
       "    }\n",
       "\n",
       "    .dataframe tbody tr th {\n",
       "        vertical-align: top;\n",
       "    }\n",
       "\n",
       "    .dataframe thead th {\n",
       "        text-align: right;\n",
       "    }\n",
       "</style>\n",
       "<table border=\"1\" class=\"dataframe\">\n",
       "  <thead>\n",
       "    <tr style=\"text-align: right;\">\n",
       "      <th></th>\n",
       "      <th>recency</th>\n",
       "      <th>frequency</th>\n",
       "      <th>monetary</th>\n",
       "      <th>recency_score</th>\n",
       "      <th>frequency_score</th>\n",
       "      <th>monetary_score</th>\n",
       "      <th>RFM_SCORE</th>\n",
       "      <th>SEGMENT</th>\n",
       "    </tr>\n",
       "    <tr>\n",
       "      <th>Customer ID</th>\n",
       "      <th></th>\n",
       "      <th></th>\n",
       "      <th></th>\n",
       "      <th></th>\n",
       "      <th></th>\n",
       "      <th></th>\n",
       "      <th></th>\n",
       "      <th></th>\n",
       "    </tr>\n",
       "  </thead>\n",
       "  <tbody>\n",
       "    <tr>\n",
       "      <th>12346.0</th>\n",
       "      <td>326</td>\n",
       "      <td>1</td>\n",
       "      <td>310.44</td>\n",
       "      <td>1</td>\n",
       "      <td>1</td>\n",
       "      <td>2</td>\n",
       "      <td>11</td>\n",
       "      <td>hibernating</td>\n",
       "    </tr>\n",
       "    <tr>\n",
       "      <th>12347.0</th>\n",
       "      <td>3</td>\n",
       "      <td>7</td>\n",
       "      <td>4310.00</td>\n",
       "      <td>5</td>\n",
       "      <td>5</td>\n",
       "      <td>5</td>\n",
       "      <td>55</td>\n",
       "      <td>champions</td>\n",
       "    </tr>\n",
       "    <tr>\n",
       "      <th>12348.0</th>\n",
       "      <td>76</td>\n",
       "      <td>4</td>\n",
       "      <td>1770.78</td>\n",
       "      <td>2</td>\n",
       "      <td>4</td>\n",
       "      <td>4</td>\n",
       "      <td>24</td>\n",
       "      <td>at_Risk</td>\n",
       "    </tr>\n",
       "    <tr>\n",
       "      <th>12349.0</th>\n",
       "      <td>19</td>\n",
       "      <td>1</td>\n",
       "      <td>1491.72</td>\n",
       "      <td>4</td>\n",
       "      <td>1</td>\n",
       "      <td>4</td>\n",
       "      <td>41</td>\n",
       "      <td>promising</td>\n",
       "    </tr>\n",
       "    <tr>\n",
       "      <th>12350.0</th>\n",
       "      <td>311</td>\n",
       "      <td>1</td>\n",
       "      <td>331.46</td>\n",
       "      <td>1</td>\n",
       "      <td>1</td>\n",
       "      <td>2</td>\n",
       "      <td>11</td>\n",
       "      <td>hibernating</td>\n",
       "    </tr>\n",
       "  </tbody>\n",
       "</table>\n",
       "</div>"
      ],
      "text/plain": [
       "             recency  frequency  monetary recency_score frequency_score  \\\n",
       "Customer ID                                                               \n",
       "12346.0          326          1    310.44             1               1   \n",
       "12347.0            3          7   4310.00             5               5   \n",
       "12348.0           76          4   1770.78             2               4   \n",
       "12349.0           19          1   1491.72             4               1   \n",
       "12350.0          311          1    331.46             1               1   \n",
       "\n",
       "            monetary_score RFM_SCORE      SEGMENT  \n",
       "Customer ID                                        \n",
       "12346.0                  2        11  hibernating  \n",
       "12347.0                  5        55    champions  \n",
       "12348.0                  4        24      at_Risk  \n",
       "12349.0                  4        41    promising  \n",
       "12350.0                  2        11  hibernating  "
      ]
     },
     "execution_count": 20,
     "metadata": {},
     "output_type": "execute_result"
    }
   ],
   "source": [
    "seg_map = {\n",
    "    r'[1-2][1-2]': 'hibernating',\n",
    "    r'[1-2][3-4]': 'at_Risk',\n",
    "    r'[1-2]5': 'cant_loose',\n",
    "    r'3[1-2]': 'about_to_sleep',\n",
    "    r'33': 'need_attention',\n",
    "    r'[3-4][4-5]': 'loyal_customers',\n",
    "    r'41': 'promising',\n",
    "    r'51': 'new_customers',\n",
    "    r'[4-5][2-3]': 'potential_loyalists',\n",
    "    r'5[4-5]': 'champions'\n",
    "}\n",
    "\n",
    "rfm_df[\"SEGMENT\"] = rfm_df[\"RFM_SCORE\"].replace(seg_map, regex=True)\n",
    "rfm_df.head()"
   ]
  },
  {
   "cell_type": "code",
   "execution_count": 21,
   "id": "f12051f5",
   "metadata": {
    "execution": {
     "iopub.execute_input": "2022-02-08T17:09:50.372908Z",
     "iopub.status.busy": "2022-02-08T17:09:50.371983Z",
     "iopub.status.idle": "2022-02-08T17:09:50.375270Z",
     "shell.execute_reply": "2022-02-08T17:09:50.374680Z",
     "shell.execute_reply.started": "2022-02-08T17:05:51.948934Z"
    },
    "papermill": {
     "duration": 0.043324,
     "end_time": "2022-02-08T17:09:50.375413",
     "exception": false,
     "start_time": "2022-02-08T17:09:50.332089",
     "status": "completed"
    },
    "tags": []
   },
   "outputs": [],
   "source": [
    "# scaler for K-Means\n",
    "\n",
    "sc = MinMaxScaler((0, 1))\n",
    "km_df = sc.fit_transform(km_df)"
   ]
  },
  {
   "cell_type": "code",
   "execution_count": 22,
   "id": "b616476a",
   "metadata": {
    "execution": {
     "iopub.execute_input": "2022-02-08T17:09:50.444786Z",
     "iopub.status.busy": "2022-02-08T17:09:50.443730Z",
     "iopub.status.idle": "2022-02-08T17:09:50.456267Z",
     "shell.execute_reply": "2022-02-08T17:09:50.455595Z",
     "shell.execute_reply.started": "2022-02-08T17:05:54.609664Z"
    },
    "papermill": {
     "duration": 0.048222,
     "end_time": "2022-02-08T17:09:50.456407",
     "exception": false,
     "start_time": "2022-02-08T17:09:50.408185",
     "status": "completed"
    },
    "tags": []
   },
   "outputs": [
    {
     "data": {
      "text/html": [
       "<div>\n",
       "<style scoped>\n",
       "    .dataframe tbody tr th:only-of-type {\n",
       "        vertical-align: middle;\n",
       "    }\n",
       "\n",
       "    .dataframe tbody tr th {\n",
       "        vertical-align: top;\n",
       "    }\n",
       "\n",
       "    .dataframe thead th {\n",
       "        text-align: right;\n",
       "    }\n",
       "</style>\n",
       "<table border=\"1\" class=\"dataframe\">\n",
       "  <thead>\n",
       "    <tr style=\"text-align: right;\">\n",
       "      <th></th>\n",
       "      <th>Recency</th>\n",
       "      <th>Frequency</th>\n",
       "      <th>Monetary</th>\n",
       "    </tr>\n",
       "  </thead>\n",
       "  <tbody>\n",
       "    <tr>\n",
       "      <th>0</th>\n",
       "      <td>0.871314</td>\n",
       "      <td>0.000000</td>\n",
       "      <td>0.001152</td>\n",
       "    </tr>\n",
       "    <tr>\n",
       "      <th>1</th>\n",
       "      <td>0.005362</td>\n",
       "      <td>0.028846</td>\n",
       "      <td>0.016179</td>\n",
       "    </tr>\n",
       "    <tr>\n",
       "      <th>2</th>\n",
       "      <td>0.201072</td>\n",
       "      <td>0.014423</td>\n",
       "      <td>0.006639</td>\n",
       "    </tr>\n",
       "    <tr>\n",
       "      <th>3</th>\n",
       "      <td>0.048257</td>\n",
       "      <td>0.000000</td>\n",
       "      <td>0.005591</td>\n",
       "    </tr>\n",
       "    <tr>\n",
       "      <th>4</th>\n",
       "      <td>0.831099</td>\n",
       "      <td>0.000000</td>\n",
       "      <td>0.001231</td>\n",
       "    </tr>\n",
       "  </tbody>\n",
       "</table>\n",
       "</div>"
      ],
      "text/plain": [
       "    Recency  Frequency  Monetary\n",
       "0  0.871314   0.000000  0.001152\n",
       "1  0.005362   0.028846  0.016179\n",
       "2  0.201072   0.014423  0.006639\n",
       "3  0.048257   0.000000  0.005591\n",
       "4  0.831099   0.000000  0.001231"
      ]
     },
     "execution_count": 22,
     "metadata": {},
     "output_type": "execute_result"
    }
   ],
   "source": [
    "km_df = pd.DataFrame(km_df)\n",
    "km_df.columns = ['Recency', 'Frequency', 'Monetary']\n",
    "km_df.head()"
   ]
  },
  {
   "cell_type": "code",
   "execution_count": 23,
   "id": "1582582e",
   "metadata": {
    "execution": {
     "iopub.execute_input": "2022-02-08T17:09:50.524763Z",
     "iopub.status.busy": "2022-02-08T17:09:50.524045Z",
     "iopub.status.idle": "2022-02-08T17:10:48.042300Z",
     "shell.execute_reply": "2022-02-08T17:10:48.041586Z",
     "shell.execute_reply.started": "2022-02-08T17:06:00.210277Z"
    },
    "papermill": {
     "duration": 57.553776,
     "end_time": "2022-02-08T17:10:48.042548",
     "exception": false,
     "start_time": "2022-02-08T17:09:50.488772",
     "status": "completed"
    },
    "tags": []
   },
   "outputs": [
    {
     "data": {
      "image/png": "[encoded data removed]",
      "text/plain": [
       "<Figure size 576x396 with 2 Axes>"
      ]
     },
     "metadata": {},
     "output_type": "display_data"
    },
    {
     "data": {
      "text/plain": [
       "<AxesSubplot:title={'center':'Distortion Score Elbow for KMeans Clustering'}, xlabel='k', ylabel='distortion score'>"
      ]
     },
     "execution_count": 23,
     "metadata": {},
     "output_type": "execute_result"
    }
   ],
   "source": [
    "# optimum number of cluster \n",
    "\n",
    "kmeans = KMeans()\n",
    "elbow = KElbowVisualizer(kmeans, k=(2, 20))\n",
    "elbow.fit(km_df)\n",
    "elbow.show()"
   ]
  },
  {
   "cell_type": "code",
   "execution_count": 24,
   "id": "93186266",
   "metadata": {
    "execution": {
     "iopub.execute_input": "2022-02-08T17:10:48.139832Z",
     "iopub.status.busy": "2022-02-08T17:10:48.139087Z",
     "iopub.status.idle": "2022-02-08T17:10:48.141771Z",
     "shell.execute_reply": "2022-02-08T17:10:48.142322Z",
     "shell.execute_reply.started": "2022-02-08T17:07:07.241455Z"
    },
    "papermill": {
     "duration": 0.051071,
     "end_time": "2022-02-08T17:10:48.142506",
     "exception": false,
     "start_time": "2022-02-08T17:10:48.091435",
     "status": "completed"
    },
    "tags": []
   },
   "outputs": [
    {
     "data": {
      "text/plain": [
       "6"
      ]
     },
     "execution_count": 24,
     "metadata": {},
     "output_type": "execute_result"
    }
   ],
   "source": [
    "elbow.elbow_value_"
   ]
  },
  {
   "cell_type": "code",
   "execution_count": 25,
   "id": "17b970da",
   "metadata": {
    "execution": {
     "iopub.execute_input": "2022-02-08T17:10:48.234453Z",
     "iopub.status.busy": "2022-02-08T17:10:48.233759Z",
     "iopub.status.idle": "2022-02-08T17:10:49.571713Z",
     "shell.execute_reply": "2022-02-08T17:10:49.572467Z",
     "shell.execute_reply.started": "2022-02-08T17:07:12.549863Z"
    },
    "papermill": {
     "duration": 1.388597,
     "end_time": "2022-02-08T17:10:49.572667",
     "exception": false,
     "start_time": "2022-02-08T17:10:48.184070",
     "status": "completed"
    },
    "tags": []
   },
   "outputs": [
    {
     "data": {
      "text/html": [
       "<div>\n",
       "<style scoped>\n",
       "    .dataframe tbody tr th:only-of-type {\n",
       "        vertical-align: middle;\n",
       "    }\n",
       "\n",
       "    .dataframe tbody tr th {\n",
       "        vertical-align: top;\n",
       "    }\n",
       "\n",
       "    .dataframe thead th {\n",
       "        text-align: right;\n",
       "    }\n",
       "</style>\n",
       "<table border=\"1\" class=\"dataframe\">\n",
       "  <thead>\n",
       "    <tr style=\"text-align: right;\">\n",
       "      <th></th>\n",
       "      <th>Recency</th>\n",
       "      <th>Frequency</th>\n",
       "      <th>Monetary</th>\n",
       "      <th>cluster_no</th>\n",
       "    </tr>\n",
       "  </thead>\n",
       "  <tbody>\n",
       "    <tr>\n",
       "      <th>0</th>\n",
       "      <td>0.871314</td>\n",
       "      <td>0.000000</td>\n",
       "      <td>0.001152</td>\n",
       "      <td>5</td>\n",
       "    </tr>\n",
       "    <tr>\n",
       "      <th>1</th>\n",
       "      <td>0.005362</td>\n",
       "      <td>0.028846</td>\n",
       "      <td>0.016179</td>\n",
       "      <td>1</td>\n",
       "    </tr>\n",
       "    <tr>\n",
       "      <th>2</th>\n",
       "      <td>0.201072</td>\n",
       "      <td>0.014423</td>\n",
       "      <td>0.006639</td>\n",
       "      <td>4</td>\n",
       "    </tr>\n",
       "    <tr>\n",
       "      <th>3</th>\n",
       "      <td>0.048257</td>\n",
       "      <td>0.000000</td>\n",
       "      <td>0.005591</td>\n",
       "      <td>1</td>\n",
       "    </tr>\n",
       "    <tr>\n",
       "      <th>4</th>\n",
       "      <td>0.831099</td>\n",
       "      <td>0.000000</td>\n",
       "      <td>0.001231</td>\n",
       "      <td>5</td>\n",
       "    </tr>\n",
       "  </tbody>\n",
       "</table>\n",
       "</div>"
      ],
      "text/plain": [
       "    Recency  Frequency  Monetary  cluster_no\n",
       "0  0.871314   0.000000  0.001152           5\n",
       "1  0.005362   0.028846  0.016179           1\n",
       "2  0.201072   0.014423  0.006639           4\n",
       "3  0.048257   0.000000  0.005591           1\n",
       "4  0.831099   0.000000  0.001231           5"
      ]
     },
     "execution_count": 25,
     "metadata": {},
     "output_type": "execute_result"
    }
   ],
   "source": [
    "# final cluster\n",
    "\n",
    "kmeans = KMeans(n_clusters=elbow.elbow_value_).fit(km_df)\n",
    "clusters = kmeans.labels_\n",
    "\n",
    "km_df[\"cluster_no\"] = clusters\n",
    "\n",
    "km_df[\"cluster_no\"] = km_df[\"cluster_no\"] + 1\n",
    "\n",
    "km_df.head()"
   ]
  },
  {
   "cell_type": "code",
   "execution_count": 26,
   "id": "8e0d09e4",
   "metadata": {
    "execution": {
     "iopub.execute_input": "2022-02-08T17:10:49.666524Z",
     "iopub.status.busy": "2022-02-08T17:10:49.665244Z",
     "iopub.status.idle": "2022-02-08T17:10:49.667146Z",
     "shell.execute_reply": "2022-02-08T17:10:49.665871Z",
     "shell.execute_reply.started": "2022-02-08T17:07:38.570343Z"
    },
    "papermill": {
     "duration": 0.052255,
     "end_time": "2022-02-08T17:10:49.667323",
     "exception": false,
     "start_time": "2022-02-08T17:10:49.615068",
     "status": "completed"
    },
    "tags": []
   },
   "outputs": [],
   "source": [
    "km_df.reset_index(inplace=True)"
   ]
  },
  {
   "cell_type": "code",
   "execution_count": 27,
   "id": "ddc0a3c1",
   "metadata": {
    "execution": {
     "iopub.execute_input": "2022-02-08T17:10:49.759686Z",
     "iopub.status.busy": "2022-02-08T17:10:49.758835Z",
     "iopub.status.idle": "2022-02-08T17:10:49.760896Z",
     "shell.execute_reply": "2022-02-08T17:10:49.760313Z",
     "shell.execute_reply.started": "2022-02-08T17:07:41.069619Z"
    },
    "papermill": {
     "duration": 0.052023,
     "end_time": "2022-02-08T17:10:49.761048",
     "exception": false,
     "start_time": "2022-02-08T17:10:49.709025",
     "status": "completed"
    },
    "tags": []
   },
   "outputs": [],
   "source": [
    "rfm_df.reset_index(inplace=True)"
   ]
  },
  {
   "cell_type": "code",
   "execution_count": 28,
   "id": "170bb121",
   "metadata": {
    "execution": {
     "iopub.execute_input": "2022-02-08T17:10:49.853945Z",
     "iopub.status.busy": "2022-02-08T17:10:49.853114Z",
     "iopub.status.idle": "2022-02-08T17:10:49.855148Z",
     "shell.execute_reply": "2022-02-08T17:10:49.854575Z",
     "shell.execute_reply.started": "2022-02-08T17:07:44.048477Z"
    },
    "papermill": {
     "duration": 0.051164,
     "end_time": "2022-02-08T17:10:49.855321",
     "exception": false,
     "start_time": "2022-02-08T17:10:49.804157",
     "status": "completed"
    },
    "tags": []
   },
   "outputs": [],
   "source": [
    "rfm_df.reset_index(inplace=True)"
   ]
  },
  {
   "cell_type": "code",
   "execution_count": 29,
   "id": "5322cf1f",
   "metadata": {
    "execution": {
     "iopub.execute_input": "2022-02-08T17:10:49.949129Z",
     "iopub.status.busy": "2022-02-08T17:10:49.947373Z",
     "iopub.status.idle": "2022-02-08T17:10:49.974351Z",
     "shell.execute_reply": "2022-02-08T17:10:49.975383Z",
     "shell.execute_reply.started": "2022-02-08T17:07:49.551436Z"
    },
    "papermill": {
     "duration": 0.078641,
     "end_time": "2022-02-08T17:10:49.975591",
     "exception": false,
     "start_time": "2022-02-08T17:10:49.896950",
     "status": "completed"
    },
    "tags": []
   },
   "outputs": [
    {
     "data": {
      "text/html": [
       "<div>\n",
       "<style scoped>\n",
       "    .dataframe tbody tr th:only-of-type {\n",
       "        vertical-align: middle;\n",
       "    }\n",
       "\n",
       "    .dataframe tbody tr th {\n",
       "        vertical-align: top;\n",
       "    }\n",
       "\n",
       "    .dataframe thead th {\n",
       "        text-align: right;\n",
       "    }\n",
       "</style>\n",
       "<table border=\"1\" class=\"dataframe\">\n",
       "  <thead>\n",
       "    <tr style=\"text-align: right;\">\n",
       "      <th></th>\n",
       "      <th>index</th>\n",
       "      <th>Customer ID</th>\n",
       "      <th>recency</th>\n",
       "      <th>frequency</th>\n",
       "      <th>monetary</th>\n",
       "      <th>recency_score</th>\n",
       "      <th>frequency_score</th>\n",
       "      <th>monetary_score</th>\n",
       "      <th>RFM_SCORE</th>\n",
       "      <th>SEGMENT</th>\n",
       "      <th>cluster_no</th>\n",
       "    </tr>\n",
       "  </thead>\n",
       "  <tbody>\n",
       "    <tr>\n",
       "      <th>0</th>\n",
       "      <td>0</td>\n",
       "      <td>12346.0</td>\n",
       "      <td>326</td>\n",
       "      <td>1</td>\n",
       "      <td>310.44</td>\n",
       "      <td>1</td>\n",
       "      <td>1</td>\n",
       "      <td>2</td>\n",
       "      <td>11</td>\n",
       "      <td>hibernating</td>\n",
       "      <td>5</td>\n",
       "    </tr>\n",
       "    <tr>\n",
       "      <th>1</th>\n",
       "      <td>1</td>\n",
       "      <td>12347.0</td>\n",
       "      <td>3</td>\n",
       "      <td>7</td>\n",
       "      <td>4310.00</td>\n",
       "      <td>5</td>\n",
       "      <td>5</td>\n",
       "      <td>5</td>\n",
       "      <td>55</td>\n",
       "      <td>champions</td>\n",
       "      <td>1</td>\n",
       "    </tr>\n",
       "    <tr>\n",
       "      <th>2</th>\n",
       "      <td>2</td>\n",
       "      <td>12348.0</td>\n",
       "      <td>76</td>\n",
       "      <td>4</td>\n",
       "      <td>1770.78</td>\n",
       "      <td>2</td>\n",
       "      <td>4</td>\n",
       "      <td>4</td>\n",
       "      <td>24</td>\n",
       "      <td>at_Risk</td>\n",
       "      <td>4</td>\n",
       "    </tr>\n",
       "    <tr>\n",
       "      <th>3</th>\n",
       "      <td>3</td>\n",
       "      <td>12349.0</td>\n",
       "      <td>19</td>\n",
       "      <td>1</td>\n",
       "      <td>1491.72</td>\n",
       "      <td>4</td>\n",
       "      <td>1</td>\n",
       "      <td>4</td>\n",
       "      <td>41</td>\n",
       "      <td>promising</td>\n",
       "      <td>1</td>\n",
       "    </tr>\n",
       "    <tr>\n",
       "      <th>4</th>\n",
       "      <td>4</td>\n",
       "      <td>12350.0</td>\n",
       "      <td>311</td>\n",
       "      <td>1</td>\n",
       "      <td>331.46</td>\n",
       "      <td>1</td>\n",
       "      <td>1</td>\n",
       "      <td>2</td>\n",
       "      <td>11</td>\n",
       "      <td>hibernating</td>\n",
       "      <td>5</td>\n",
       "    </tr>\n",
       "  </tbody>\n",
       "</table>\n",
       "</div>"
      ],
      "text/plain": [
       "   index  Customer ID  recency  frequency  monetary recency_score  \\\n",
       "0      0      12346.0      326          1    310.44             1   \n",
       "1      1      12347.0        3          7   4310.00             5   \n",
       "2      2      12348.0       76          4   1770.78             2   \n",
       "3      3      12349.0       19          1   1491.72             4   \n",
       "4      4      12350.0      311          1    331.46             1   \n",
       "\n",
       "  frequency_score monetary_score RFM_SCORE      SEGMENT  cluster_no  \n",
       "0               1              2        11  hibernating           5  \n",
       "1               5              5        55    champions           1  \n",
       "2               4              4        24      at_Risk           4  \n",
       "3               1              4        41    promising           1  \n",
       "4               1              2        11  hibernating           5  "
      ]
     },
     "execution_count": 29,
     "metadata": {},
     "output_type": "execute_result"
    }
   ],
   "source": [
    "km_rfm = rfm_df.merge(km_df, on=\"index\", how=\"left\")\n",
    "km_rfm = km_rfm.drop([\"Recency\", \"Frequency\", \"Monetary\"],axis=1)\n",
    "km_rfm.head()"
   ]
  },
  {
   "cell_type": "code",
   "execution_count": 30,
   "id": "92422d77",
   "metadata": {
    "execution": {
     "iopub.execute_input": "2022-02-08T17:10:50.072769Z",
     "iopub.status.busy": "2022-02-08T17:10:50.072043Z",
     "iopub.status.idle": "2022-02-08T17:10:50.075296Z",
     "shell.execute_reply": "2022-02-08T17:10:50.075830Z",
     "shell.execute_reply.started": "2022-02-08T17:07:55.651632Z"
    },
    "papermill": {
     "duration": 0.057342,
     "end_time": "2022-02-08T17:10:50.076030",
     "exception": false,
     "start_time": "2022-02-08T17:10:50.018688",
     "status": "completed"
    },
    "tags": []
   },
   "outputs": [],
   "source": [
    "dummy_df = km_rfm[\"cluster_no\"]\n",
    "dummy_df = pd.get_dummies(dummy_df)\n",
    "dummy_df = dummy_df.reset_index()\n",
    "km_rfm = pd.concat([km_rfm, dummy_df], axis=1)"
   ]
  },
  {
   "cell_type": "code",
   "execution_count": 31,
   "id": "706d7c3f",
   "metadata": {
    "execution": {
     "iopub.execute_input": "2022-02-08T17:10:50.168815Z",
     "iopub.status.busy": "2022-02-08T17:10:50.167954Z",
     "iopub.status.idle": "2022-02-08T17:10:50.170025Z",
     "shell.execute_reply": "2022-02-08T17:10:50.169455Z",
     "shell.execute_reply.started": "2022-02-08T17:08:29.241669Z"
    },
    "papermill": {
     "duration": 0.051715,
     "end_time": "2022-02-08T17:10:50.170176",
     "exception": false,
     "start_time": "2022-02-08T17:10:50.118461",
     "status": "completed"
    },
    "tags": []
   },
   "outputs": [],
   "source": [
    "pd.set_option('display.max_columns', None)\n",
    "pd.set_option('display.max_rows', None)\n",
    "pd.set_option('display.float_format', lambda x: '%.0f' % x)"
   ]
  },
  {
   "cell_type": "code",
   "execution_count": 32,
   "id": "e37c38d4",
   "metadata": {
    "execution": {
     "iopub.execute_input": "2022-02-08T17:10:50.272186Z",
     "iopub.status.busy": "2022-02-08T17:10:50.271478Z",
     "iopub.status.idle": "2022-02-08T17:10:50.283134Z",
     "shell.execute_reply": "2022-02-08T17:10:50.284103Z",
     "shell.execute_reply.started": "2022-02-08T17:08:31.321189Z"
    },
    "papermill": {
     "duration": 0.0719,
     "end_time": "2022-02-08T17:10:50.284320",
     "exception": false,
     "start_time": "2022-02-08T17:10:50.212420",
     "status": "completed"
    },
    "tags": []
   },
   "outputs": [
    {
     "data": {
      "text/html": [
       "<div>\n",
       "<style scoped>\n",
       "    .dataframe tbody tr th:only-of-type {\n",
       "        vertical-align: middle;\n",
       "    }\n",
       "\n",
       "    .dataframe tbody tr th {\n",
       "        vertical-align: top;\n",
       "    }\n",
       "\n",
       "    .dataframe thead th {\n",
       "        text-align: right;\n",
       "    }\n",
       "</style>\n",
       "<table border=\"1\" class=\"dataframe\">\n",
       "  <thead>\n",
       "    <tr style=\"text-align: right;\">\n",
       "      <th></th>\n",
       "      <th>1</th>\n",
       "      <th>2</th>\n",
       "      <th>3</th>\n",
       "      <th>4</th>\n",
       "      <th>5</th>\n",
       "      <th>6</th>\n",
       "    </tr>\n",
       "    <tr>\n",
       "      <th>SEGMENT</th>\n",
       "      <th></th>\n",
       "      <th></th>\n",
       "      <th></th>\n",
       "      <th></th>\n",
       "      <th></th>\n",
       "      <th></th>\n",
       "    </tr>\n",
       "  </thead>\n",
       "  <tbody>\n",
       "    <tr>\n",
       "      <th>about_to_sleep</th>\n",
       "      <td>109</td>\n",
       "      <td>0</td>\n",
       "      <td>0</td>\n",
       "      <td>243</td>\n",
       "      <td>0</td>\n",
       "      <td>0</td>\n",
       "    </tr>\n",
       "    <tr>\n",
       "      <th>at_Risk</th>\n",
       "      <td>0</td>\n",
       "      <td>92</td>\n",
       "      <td>231</td>\n",
       "      <td>240</td>\n",
       "      <td>30</td>\n",
       "      <td>0</td>\n",
       "    </tr>\n",
       "    <tr>\n",
       "      <th>cant_loose</th>\n",
       "      <td>0</td>\n",
       "      <td>5</td>\n",
       "      <td>19</td>\n",
       "      <td>36</td>\n",
       "      <td>3</td>\n",
       "      <td>0</td>\n",
       "    </tr>\n",
       "    <tr>\n",
       "      <th>champions</th>\n",
       "      <td>613</td>\n",
       "      <td>0</td>\n",
       "      <td>0</td>\n",
       "      <td>0</td>\n",
       "      <td>0</td>\n",
       "      <td>20</td>\n",
       "    </tr>\n",
       "    <tr>\n",
       "      <th>hibernating</th>\n",
       "      <td>0</td>\n",
       "      <td>329</td>\n",
       "      <td>266</td>\n",
       "      <td>220</td>\n",
       "      <td>256</td>\n",
       "      <td>0</td>\n",
       "    </tr>\n",
       "    <tr>\n",
       "      <th>loyal_customers</th>\n",
       "      <td>650</td>\n",
       "      <td>0</td>\n",
       "      <td>0</td>\n",
       "      <td>166</td>\n",
       "      <td>0</td>\n",
       "      <td>3</td>\n",
       "    </tr>\n",
       "    <tr>\n",
       "      <th>need_attention</th>\n",
       "      <td>76</td>\n",
       "      <td>0</td>\n",
       "      <td>0</td>\n",
       "      <td>111</td>\n",
       "      <td>0</td>\n",
       "      <td>0</td>\n",
       "    </tr>\n",
       "    <tr>\n",
       "      <th>new_customers</th>\n",
       "      <td>42</td>\n",
       "      <td>0</td>\n",
       "      <td>0</td>\n",
       "      <td>0</td>\n",
       "      <td>0</td>\n",
       "      <td>0</td>\n",
       "    </tr>\n",
       "    <tr>\n",
       "      <th>potential_loyalists</th>\n",
       "      <td>484</td>\n",
       "      <td>0</td>\n",
       "      <td>0</td>\n",
       "      <td>0</td>\n",
       "      <td>0</td>\n",
       "      <td>0</td>\n",
       "    </tr>\n",
       "    <tr>\n",
       "      <th>promising</th>\n",
       "      <td>94</td>\n",
       "      <td>0</td>\n",
       "      <td>0</td>\n",
       "      <td>0</td>\n",
       "      <td>0</td>\n",
       "      <td>0</td>\n",
       "    </tr>\n",
       "  </tbody>\n",
       "</table>\n",
       "</div>"
      ],
      "text/plain": [
       "                      1   2   3    4   5   6\n",
       "SEGMENT                                     \n",
       "about_to_sleep      109   0   0  243   0   0\n",
       "at_Risk               0  92 231  240  30   0\n",
       "cant_loose            0   5  19   36   3   0\n",
       "champions           613   0   0    0   0  20\n",
       "hibernating           0 329 266  220 256   0\n",
       "loyal_customers     650   0   0  166   0   3\n",
       "need_attention       76   0   0  111   0   0\n",
       "new_customers        42   0   0    0   0   0\n",
       "potential_loyalists 484   0   0    0   0   0\n",
       "promising            94   0   0    0   0   0"
      ]
     },
     "execution_count": 32,
     "metadata": {},
     "output_type": "execute_result"
    }
   ],
   "source": [
    "km_rfm.groupby(\"SEGMENT\").agg({ 1 : \"sum\",\n",
    "                                2 : \"sum\",\n",
    "                                3 : \"sum\",\n",
    "                                4 : \"sum\",\n",
    "                                5 : \"sum\",\n",
    "                                6 : \"sum\"})"
   ]
  },
  {
   "cell_type": "code",
   "execution_count": 33,
   "id": "cadbea8a",
   "metadata": {
    "execution": {
     "iopub.execute_input": "2022-02-08T17:10:50.377984Z",
     "iopub.status.busy": "2022-02-08T17:10:50.377111Z",
     "iopub.status.idle": "2022-02-08T17:10:50.379205Z",
     "shell.execute_reply": "2022-02-08T17:10:50.378630Z"
    },
    "papermill": {
     "duration": 0.051432,
     "end_time": "2022-02-08T17:10:50.379362",
     "exception": false,
     "start_time": "2022-02-08T17:10:50.327930",
     "status": "completed"
    },
    "tags": []
   },
   "outputs": [],
   "source": [
    "# Buradan elde edeceğimiz sonuç bize hangi kümelerde hangi segmentlere göre aksiyon alınacağını \n",
    "# gösterecektir. 1.kümede sadece champions için aksiyon alınabilir. 5.kümede aksiyon ağırlığı \n",
    "# champions ve loyal_customer segmentindekilere verilebilir şeklinde yorumlar yaparak hangi kümelerde \n",
    "# hangi segmentlere ağırlık verileceğine karar verilebilir."
   ]
  }
 ],
 "metadata": {
  "kernelspec": {
   "display_name": "Python 3",
   "language": "python",
   "name": "python3"
  },
  "language_info": {
   "codemirror_mode": {
    "name": "ipython",
    "version": 3
   },
   "file_extension": ".py",
   "mimetype": "text/x-python",
   "name": "python",
   "nbconvert_exporter": "python",
   "pygments_lexer": "ipython3",
   "version": "3.7.12"
  },
  "papermill": {
   "default_parameters": {},
   "duration": 80.24818,
   "end_time": "2022-02-08T17:10:51.247023",
   "environment_variables": {},
   "exception": null,
   "input_path": "__notebook__.ipynb",
   "output_path": "__notebook__.ipynb",
   "parameters": {},
   "start_time": "2022-02-08T17:09:30.998843",
   "version": "2.3.3"
  }
 },
 "nbformat": 4,
 "nbformat_minor": 5
}
